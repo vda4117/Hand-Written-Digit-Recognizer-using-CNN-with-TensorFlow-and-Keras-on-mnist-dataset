{
 "cells": [
  {
   "cell_type": "code",
   "execution_count": 65,
   "metadata": {},
   "outputs": [],
   "source": [
    "import numpy as np\n",
    "import pandas as pd\n",
    "from tensorflow import keras\n",
    "from tensorflow.keras import layers\n",
    "from tensorflow.keras.callbacks import LearningRateScheduler\n",
    "from tensorflow.keras.preprocessing.image import ImageDataGenerator\n",
    "from tensorflow.keras.datasets import mnist\n",
    "from sklearn.model_selection import train_test_split"
   ]
  },
  {
   "cell_type": "code",
   "execution_count": 66,
   "metadata": {},
   "outputs": [],
   "source": [
    "####### Parameters #########\n",
    "\n",
    "BATCH_SIZE = 64\n",
    "EPOCHS = 10\n",
    "VAL_SPLIT_RATIO = 0.1\n",
    "NUM_CLASSES = 10\n",
    "INPUT_SHAPE = (28, 28, 1)"
   ]
  },
  {
   "cell_type": "code",
   "execution_count": 67,
   "metadata": {},
   "outputs": [],
   "source": [
    "####### Load Data ##########\n",
    "(x_train, y_train), (x_test, y_test) = mnist.load_data()"
   ]
  },
  {
   "cell_type": "code",
   "execution_count": 68,
   "metadata": {},
   "outputs": [
    {
     "name": "stdout",
     "output_type": "stream",
     "text": [
      "X_train: (60000, 28, 28)\n",
      "Y_train: (60000,)\n",
      "X_test:  (10000, 28, 28)\n",
      "Y_test:  (10000,)\n"
     ]
    }
   ],
   "source": [
    "######### Data Shape  #########\n",
    "print('X_train: ' + str(x_train.shape))\n",
    "print('Y_train: ' + str(y_train.shape))\n",
    "print('X_test:  '  + str(x_test.shape))\n",
    "print('Y_test:  '  + str(y_test.shape))"
   ]
  },
  {
   "cell_type": "code",
   "execution_count": 69,
   "metadata": {},
   "outputs": [],
   "source": [
    "####### DATA PROCESSING ##########\n",
    "\n",
    "# Normalization\n",
    "x_train = x_train.astype(\"float32\") / 255.0\n",
    "x_test = x_test.astype(\"float32\") / 255.0\n",
    "\n",
    "# Reshape images\n",
    "x_train = x_train.reshape(-1, 28, 28, 1)\n",
    "x_test = x_test.reshape(-1, 28, 28, 1)\n",
    "\n",
    "# Convert class vectors to binary class matrices\n",
    "y_train = keras.utils.to_categorical(y_train, NUM_CLASSES)\n",
    "y_test = keras.utils.to_categorical(y_test, NUM_CLASSES)\n",
    "\n",
    "# Train/validation split\n",
    "x_train, x_val, y_train, y_val = train_test_split(x_train, y_train, test_size = VAL_SPLIT_RATIO)"
   ]
  },
  {
   "cell_type": "code",
   "execution_count": 70,
   "metadata": {},
   "outputs": [],
   "source": [
    "####### MODEL ###########\n",
    "\n",
    "model = keras.Sequential(\n",
    "    [\n",
    "        keras.Input(shape=INPUT_SHAPE),\n",
    "        layers.Conv2D(32, kernel_size=3, activation=\"relu\"),\n",
    "        layers.BatchNormalization(),\n",
    "        layers.Conv2D(32, kernel_size=3, activation=\"relu\"),\n",
    "        layers.BatchNormalization(),\n",
    "        layers.Conv2D(32, kernel_size=5, strides=2, padding=\"same\", activation=\"relu\"),\n",
    "        layers.BatchNormalization(),\n",
    "        layers.Dropout(0.4),\n",
    "        layers.Conv2D(64, kernel_size=3, activation=\"relu\"),\n",
    "        layers.BatchNormalization(),\n",
    "        layers.Conv2D(64, kernel_size=3, activation=\"relu\"),\n",
    "        layers.BatchNormalization(),\n",
    "        layers.Conv2D(64, kernel_size=5, strides=2, padding=\"same\", activation=\"relu\"),\n",
    "        layers.BatchNormalization(),\n",
    "        layers.Dropout(0.4),\n",
    "        layers.Conv2D(128, kernel_size=4, activation=\"relu\"),\n",
    "        layers.BatchNormalization(),\n",
    "        layers.Flatten(),\n",
    "        layers.Dropout(0.4),\n",
    "        layers.Dense(NUM_CLASSES, activation=\"softmax\"),\n",
    "    ]\n",
    ")"
   ]
  },
  {
   "cell_type": "code",
   "execution_count": 71,
   "metadata": {},
   "outputs": [],
   "source": [
    "######## Compile the model  ##########\n",
    "model.compile(loss=\"categorical_crossentropy\", optimizer=\"adam\", metrics=[\"accuracy\"])"
   ]
  },
  {
   "cell_type": "code",
   "execution_count": 72,
   "metadata": {},
   "outputs": [],
   "source": [
    "####### CALLBACKS #########\n",
    "\n",
    "# Set up learning rate scheduler\n",
    "lr_sheduler = LearningRateScheduler(lambda x: 1.0e-3 * 0.95 ** x)"
   ]
  },
  {
   "cell_type": "code",
   "execution_count": 73,
   "metadata": {},
   "outputs": [],
   "source": [
    "###### IMAGE GENERATOR WITH AUGMENTATION\n",
    "\n",
    "datagen = ImageDataGenerator(\n",
    "    rotation_range=10, zoom_range=0.10, width_shift_range=0.1, height_shift_range=0.1\n",
    ")"
   ]
  },
  {
   "cell_type": "code",
   "execution_count": 75,
   "metadata": {},
   "outputs": [
    {
     "name": "stdout",
     "output_type": "stream",
     "text": [
      "Epoch 1/5\n",
      "843/843 [==============================] - 124s 147ms/step - loss: 0.2163 - accuracy: 0.9334 - val_loss: 0.0659 - val_accuracy: 0.9802 - lr: 0.0010\n",
      "Epoch 2/5\n",
      "843/843 [==============================] - 124s 147ms/step - loss: 0.1086 - accuracy: 0.9665 - val_loss: 0.0416 - val_accuracy: 0.9880 - lr: 9.5000e-04\n",
      "Epoch 3/5\n",
      "843/843 [==============================] - 124s 147ms/step - loss: 0.0854 - accuracy: 0.9752 - val_loss: 0.0287 - val_accuracy: 0.9912 - lr: 9.0250e-04\n",
      "Epoch 4/5\n",
      "843/843 [==============================] - 120s 142ms/step - loss: 0.0707 - accuracy: 0.9785 - val_loss: 0.0356 - val_accuracy: 0.9895 - lr: 8.5737e-04\n",
      "Epoch 5/5\n",
      "843/843 [==============================] - 127s 150ms/step - loss: 0.0656 - accuracy: 0.9801 - val_loss: 0.0221 - val_accuracy: 0.9935 - lr: 8.1451e-04\n"
     ]
    }
   ],
   "source": [
    "####### TRAINING #########\n",
    "\n",
    "history = model.fit(\n",
    "    datagen.flow(x_train, y_train, batch_size=BATCH_SIZE),\n",
    "    epochs=5,\n",
    "    validation_data=(x_val, y_val),\n",
    "    steps_per_epoch=x_train.shape[0] // BATCH_SIZE,\n",
    "    callbacks=[lr_sheduler],\n",
    ")"
   ]
  },
  {
   "cell_type": "code",
   "execution_count": 76,
   "metadata": {},
   "outputs": [
    {
     "data": {
      "text/plain": [
       "array([[1.2683046e-07, 1.2824311e-06, 3.5008128e-07, 2.9859544e-07,\n",
       "        1.9683567e-07, 1.6314157e-09, 1.3343141e-09, 9.9999273e-01,\n",
       "        7.1604731e-09, 4.8456313e-06],\n",
       "       [4.8523216e-06, 1.2778166e-05, 9.9996388e-01, 6.1459245e-06,\n",
       "        2.7997547e-07, 6.2212351e-08, 8.0421751e-06, 2.9859439e-06,\n",
       "        9.8955877e-07, 4.2442295e-08],\n",
       "       [5.1413385e-06, 9.9881613e-01, 3.5417233e-05, 2.2611453e-05,\n",
       "        2.9669958e-04, 3.9104689e-05, 5.8222042e-05, 4.7207397e-04,\n",
       "        7.9525053e-06, 2.4673028e-04],\n",
       "       [9.9992871e-01, 6.2771943e-07, 2.0421569e-06, 2.9952517e-07,\n",
       "        1.0666712e-06, 6.7959127e-07, 4.5279885e-06, 2.6373089e-06,\n",
       "        1.5714261e-06, 5.7811907e-05],\n",
       "       [6.2812924e-06, 5.0831813e-06, 1.4248944e-05, 4.1061872e-07,\n",
       "        9.9926788e-01, 8.8192212e-07, 5.8201948e-07, 5.6210447e-06,\n",
       "        3.0641431e-06, 6.9586409e-04]], dtype=float32)"
      ]
     },
     "execution_count": 76,
     "metadata": {},
     "output_type": "execute_result"
    }
   ],
   "source": [
    "###### Predict test label from test data using train model\n",
    "y_pred = model.predict(x_test)\n",
    "y_pred[:5]"
   ]
  },
  {
   "cell_type": "code",
   "execution_count": 77,
   "metadata": {},
   "outputs": [
    {
     "name": "stdout",
     "output_type": "stream",
     "text": [
      "313/313 [==============================] - 4s 12ms/step - loss: 0.0236 - accuracy: 0.9918\n",
      "[0.023561494424939156, 0.9918000102043152]\n"
     ]
    }
   ],
   "source": [
    "score = model.evaluate(x_test, y_test,verbose=1)\n",
    "\n",
    "print(score)"
   ]
  },
  {
   "cell_type": "code",
   "execution_count": null,
   "metadata": {},
   "outputs": [],
   "source": []
  }
 ],
 "metadata": {
  "kernelspec": {
   "display_name": "Python 3",
   "language": "python",
   "name": "python3"
  },
  "language_info": {
   "codemirror_mode": {
    "name": "ipython",
    "version": 3
   },
   "file_extension": ".py",
   "mimetype": "text/x-python",
   "name": "python",
   "nbconvert_exporter": "python",
   "pygments_lexer": "ipython3",
   "version": "3.7.0"
  }
 },
 "nbformat": 4,
 "nbformat_minor": 2
}
